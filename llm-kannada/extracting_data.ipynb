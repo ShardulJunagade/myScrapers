{
 "cells": [
  {
   "cell_type": "code",
   "execution_count": 24,
   "id": "ea71032a-70e3-4b47-8c55-ba56243f713c",
   "metadata": {},
   "outputs": [],
   "source": [
    "import pandas as pd\n",
    "from selenium import webdriver\n",
    "from selenium.webdriver.common.by import By\n",
    "from selenium.webdriver.chrome.options import Options\n"
   ]
  },
  {
   "cell_type": "code",
   "execution_count": 25,
   "id": "5e91a1f9",
   "metadata": {},
   "outputs": [],
   "source": [
    "chrome_options = Options()\n",
    "chrome_options.add_argument(\"--headless\")\n",
    "chrome_options.add_argument(\"--disable-extensions\")\n",
    "chrome_options.add_argument(\"--disable-gpu\")\n",
    "# chrome_options.add_argument(\"--no-sandbox\")  # Linux only\n",
    "chrome_options.add_argument(\"--disable-dev-shm-usage\")\n",
    "chrome_options.add_argument(\"--disable-images\")  # Disable images\n",
    "chrome_options.add_argument(\"--disable-javascript\")  # Disable JS if possible\n",
    "# chrome_options.add_experimental_option(\"prefs\", {\n",
    "#     \"profile.managed_default_content_settings.images\": 2,\n",
    "#     \"profile.managed_default_content_settings.javascript\": 2,\n",
    "# })\n",
    "chrome_options.page_load_strategy = 'eager'  # 'eager' waits until the DOM content is loaded\n",
    "\n",
    "driver = webdriver.Chrome(options=chrome_options)\n",
    "# driver.set_page_load_timeout(10)  # Timeout after 10 seconds"
   ]
  },
  {
   "cell_type": "code",
   "execution_count": 26,
   "id": "6a428e5e-ed3c-4723-bc95-a1f067a499f1",
   "metadata": {},
   "outputs": [],
   "source": [
    "# driver = webdriver.Chrome()"
   ]
  },
  {
   "cell_type": "code",
   "execution_count": 27,
   "id": "5b1b7b2a",
   "metadata": {},
   "outputs": [],
   "source": [
    "df = pd.read_csv('url.csv')"
   ]
  },
  {
   "cell_type": "code",
   "execution_count": 28,
   "id": "ef041b37",
   "metadata": {},
   "outputs": [],
   "source": [
    "df2 = pd.DataFrame(columns=[\"url\", \"heading\", \"content\"])"
   ]
  },
  {
   "cell_type": "code",
   "execution_count": 29,
   "id": "7b606276",
   "metadata": {},
   "outputs": [
    {
     "name": "stdout",
     "output_type": "stream",
     "text": [
      "ಮೈಸೂರು ಜಿಲ್ಲೆಯಲ್ಲಿ ಮತ್ತೆ ಕಲುಷಿತ ನೀರು ಅವಗಢ - ಓರ್ವ ಸಾವು, 12 ಮಂದಿ ಅಸ್ವಸ್ಥ\n",
      "Error processing https://vijaykarnataka.com/news/mysuru/mysuru-bettahalli-contaminated-water-case-one-dies-and-12-hospitalized/articleshow/113251532.cms: 'NoneType' object has no attribute 'strip'\n",
      "ಮೈಸೂರು ಜಿಲ್ಲೆಯಲ್ಲಿ ಮತ್ತೆ ಕಲುಷಿತ ನೀರು ಅವಗಢ - ಓರ್ವ ಸಾವು, 12 ಮಂದಿ ಅಸ್ವಸ್ಥ\n",
      "Data extracted successfully 4934\n",
      "'ಭಾರತ ವಿರೋಧಿ' ಅಮೆರಿಕ ಸಂಸದೆ ಜೊತೆ ರಾಹುಲ್ ಗಾಂಧಿ ಗ್ರೂಪ್ ಫೋಟೋ! ಯಾರೀಕೆ ಇಲ್ಹಾನ್ ಒಮರ್?\n",
      "Data extracted successfully 4615\n",
      "'ಭಾರತ ವಿರೋಧಿ' ಅಮೆರಿಕ ಸಂಸದೆ ಜೊತೆ ರಾಹುಲ್ ಗಾಂಧಿ ಗ್ರೂಪ್ ಫೋಟೋ! ಯಾರೀಕೆ ಇಲ್ಹಾನ್ ಒಮರ್?\n",
      "Data extracted successfully 4615\n",
      "ಪಿತೃಪಕ್ಷ ಪೂಜೆ - ಗಾಂಧಿ ಜಯಂತಿ ಒಂದೇ ದಿನ; ಅಂದು ಮಾಂಸ ಮಾರಾಟ ಅನುಮತಿಗೆ ಸಿಎಂ ಸಿದ್ದರಾಮಯ್ಯಗೆ ಮನವಿ\n",
      "Data extracted successfully 3083\n",
      "ಪಿತೃಪಕ್ಷ ಪೂಜೆ - ಗಾಂಧಿ ಜಯಂತಿ ಒಂದೇ ದಿನ; ಅಂದು ಮಾಂಸ ಮಾರಾಟ ಅನುಮತಿಗೆ ಸಿಎಂ ಸಿದ್ದರಾಮಯ್ಯಗೆ ಮನವಿ\n",
      "Data extracted successfully 3083\n",
      "ಕರ್ನಾಟಕ ಸರ್ಕಾರಿ ಗ್ರೂಪ್‌ ಎ, ಗ್ರೂಪ್‌ ಬಿ ಹುದ್ದೆ ನೇಮಕಾತಿಗೆ ಸಂಬಂಧ ಮಹತ್ವದ ಆದೇಶ ಪ್ರಕಟ\n",
      "Data extracted successfully 2907\n",
      "ಕರ್ನಾಟಕ ಸರ್ಕಾರಿ ಗ್ರೂಪ್‌ ಎ, ಗ್ರೂಪ್‌ ಬಿ ಹುದ್ದೆ ನೇಮಕಾತಿಗೆ ಸಂಬಂಧ ಮಹತ್ವದ ಆದೇಶ ಪ್ರಕಟ\n",
      "Data extracted successfully 4050\n",
      "ಸಿಖ್ಖರ ಕುರಿತು ಅಮೆರಿಕದಲ್ಲಿ ರಾಹುಲ್ ಗಾಂಧಿ ಹೇಳಿಕೆ: ಖಲಿಸ್ತಾನಿ ಉಗ್ರ ಪನ್ನು ಬೆಂಬಲ\n",
      "Data extracted successfully 4868\n",
      "Some problem with headline link: https://vijaykarnataka.com/vk-gallery/cinema/photolist/27240251.cms\n",
      "Some problem with headline link: https://vijaykarnataka.com/vk-gallery/cinema/in-pics-vasishta-simha-and-haripriya-celebrate-gowri-ganesha-habba/photoshow/113252597.cms\n",
      "DRDO ದಲ್ಲಿ ಜೂನಿಯರ್ ರಿಸರ್ಚ್‌ ಫೆಲೋ ಹುದ್ದೆಗಳ ನೇಮಕ: ಅರ್ಜಿ ಆಹ್ವಾನ\n",
      "Data extracted successfully 4329\n",
      "Earth: ಭೂಮಿಯ ಆಯಸ್ಸೆಷ್ಟು ಗೊತ್ತೇ.? ಭೂಮಿಗೂ ಇದೆಯೇ ಮರಣ ಕಾಲ.?\n",
      "Data extracted successfully 3300\n",
      "ವಯಸ್ಸು 55 ಆದ್ರೂ ಮುಟ್ಟು ನಿಂತಿಲ್ವಾ? ಹಾಗಾದ್ರೆ ವೈದ್ಯರನ್ನು ಸಂಪರ್ಕಿಸಲೇ ಬೇಕು\n",
      "Data extracted successfully 21251\n",
      "Some problem with headline link: https://vijaykarnataka.com/news/karnataka/latest-karnataka-breaking-news-today-live-updates-11-september-2024-actor-darshan-case-muda-case-latest-news/liveblog/113247888.cms\n",
      "ಹೂಡಿಕೆಗಳ ಪ್ರತ್ಯೇಕತೆಯು ಉದ್ಯಮಿಗಳು ತಮ್ಮ ಬಂಡವಾಳವನ್ನು ಪರಿಣಾಮಕಾರಿಯಾಗಿ ಯೋಜಿಸಲು ಹೇಗೆ ಉಪಯುಕ್ತವಾಗಿದೆ ಎಂಬ ಮಾಹಿತಿ ಇಲ್ಲಿದೆ..\n",
      "Data extracted successfully 8176\n",
      "Karnataka Dams Water Level Today: ರಾಜ್ಯದ ಎಲ್ಲಾ ಜಲಾಶಯಗಳು ಬಹುತೇಕ ಭರ್ತಿ- ಸೆ.11 ರಂದು ಪ್ರಮುಖ ಜಲಾಶಯಗಳ ನೀರಿನ ಮಟ್ಟ ಎಷ್ಟಿದೆ ನೋಡಿ\n",
      "Data extracted successfully 5691\n",
      "Budh Gochar 2024: ಕನ್ಯಾ ರಾಶಿಯಲ್ಲಿ ಬುಧ ಸಂಚಾರ, ಈ ರಾಶಿಗೆ ವೃತ್ತಿಯಲ್ಲಿ ಸಕ್ಸಸ್‌ ಗ್ಯಾರೆಂಟಿ..!\n",
      "Data extracted successfully 13067\n",
      "ತಾಲಿಬಾನ್ ಮುಖ್ಯಸ್ಥ ಅಬ್ದುಲ್‌ಗೆ ಅವನ ಮನೆಯ ಫೋಟೋ ಕಳಿಸಿದ್ದೆ! ಟ್ರಂಪ್ ಮಾತಿಗೆ ನೆಟ್ಟಿಗರ ಲೇವಡಿ\n",
      "Data extracted successfully 4398\n",
      "ಮಹಿಳೆಯರ ಗರ್ಭಧಾರಣೆಗೆ ಪೂರಕ ಈ 10 ಬಗೆಯ ಆಹಾರಗಳು\n",
      "Data extracted successfully 21393\n",
      "Some problem with headline link: https://vijaykarnataka.com/amazon-best-deals?utm_source=hp_pl&utm_medium=referral&utm_campaign=bestdeals\n",
      "ಲೋಕಲ್ ಸ್ಪಿನ್ನರ್‌ ವಿರುದ್ಧವೂ ಬಾಬರ್‌ ಆಝಮ್‌ ಕ್ಲೀನ್‌ ಬೌಲ್ಡ್‌ - Video ವೈರಲ್‌\n",
      "Data extracted successfully 4612\n",
      "ಬಿಜೆಪಿ ಮುಖಂಡ ಅರುಣ್‌ ಕುಮಾರ್‌ ಪುತ್ತಿಲ ವಿರುದ್ಧದ ಅತ್ಯಾಚಾರ ಕೇಸ್‌ಗೆ ಕರ್ನಾಟಕ ಹೈಕೋರ್ಟ್‌ ತಡೆಯಾಜ್ಞೆ! ಕಾರಣವೇನು?\n",
      "Data extracted successfully 3392\n",
      "ಮಿಲಿಟರಿಯ ಟೆಕ್ನಿಕಲ್ ಗ್ರಾಜುಯೇಟ್‌ ಕೋರ್ಸ್ ಪ್ರವೇಶಾತಿಗೆ ಅರ್ಜಿ ಆಹ್ವಾನ: ಬಿಇ, ಬಿ.ಟೆಕ್‌ ಅರ್ಹತೆ\n",
      "Data extracted successfully 6036\n",
      "ಕೇರಳದ ಈ ದೇವಾಲಯದಲ್ಲಿ ಒಂದೇ ದಿನ 354 ವಿವಾಹಗಳನ್ನು ಆಯೋಜಿಸಿ ಇತಿಹಾಸವನ್ನು ಸೃಷ್ಟಿಸಿದೆ\n",
      "Data extracted successfully 2025\n",
      "ತಮ್ಮದೇ ಪಕ್ಷದ ಸಂಸದ ಯದುವೀರ್ ಒಡೆಯರ್ ಗೆ ಪ್ರತಾಪ್ ಸಿಂಹ ಕೌಂಟರ್!\n",
      "Data extracted successfully 4643\n",
      "Anil Arora: ಟೆರೇಸ್‌ನಿಂದ ಹಾರಿ ಆತ್ಮಹತ್ಯೆ ಮಾಡಿಕೊಂಡ ನಟಿ ಮಲೈಕಾ ಅರೋರಾ ತಂದೆ; ಕಾರಣವೇನು?\n",
      "Data extracted successfully 4221\n",
      "ಬುಲ್ಡೋಜರ್ ಹತ್ತಿಸಲು ಇರಿಸಿದ್ದ ಅಕ್ರಮ ಮದ್ಯ: ಪೊಲೀಸರ ಕಣ್ಣೆದುರೇ ಬಾಟಲಿ ಕದ್ದು ಓಡಿದ ಜನರು Viral Video\n",
      "Data extracted successfully 4969\n",
      "ನೌಕಾಪಡೆಯಲ್ಲಿ 250 ಎಸ್‌ಎಸ್‌ಸಿ ಆಫೀಸರ್ ನೇಮಕ: ಬಿಇ, ಬಿ.ಟೆಕ್, ಬಿಎಸ್ಸಿ ಪಾಸಾದವರಿಂದ ಅರ್ಜಿ ಆಹ್ವಾನ\n",
      "Data extracted successfully 6572\n",
      "ಅಮೆರಿಕಾದಲ್ಲಿ ಡಿಕೆಶಿ, ರಾಹುಲ್ ಗಾಂಧಿ ಭೇಟಿ ಬಗ್ಗೆ ವಿಶೇಷ ಅರ್ಥ ಅನಗತ್ಯ! ಪರಮೇಶ್ವರ್\n",
      "Data extracted successfully 3514\n",
      "ಸ್ಪರ್ಧಾತ್ಮಕ ಪರೀಕ್ಷಾ ಅಕ್ರಮಕ್ಕೆ 10 ಕೋಟಿ ವರೆಗೆ ದಂಡ, 12 ವರ್ಷ ಜೈಲು! ರಾಜ್ಯಪತ್ರದಲ್ಲಿ ನಿಯಮಗಳು ಪ್ರಕಟ\n",
      "Data extracted successfully 3899\n",
      "Some problem with headline link: https://vijaykarnataka.com/web-stories/lifestyle/photolist/87243826.cms\n",
      "Some problem with headline link: https://vijaykarnataka.com/web-stories/lifestyle/follow-these-tips-to-stop-hating-someone/photoshow/113251095.cms\n",
      "Money On Road: ರಸ್ತೆಯಲ್ಲಿ ನಿಮಗೆ ನಾಣ್ಯ ಅಥವಾ ನೋಟು ಸಿಕ್ಕರೆ ಹೀಗೆಲ್ಲಾ ಆಗುತ್ತೆ\n",
      "Data extracted successfully 10035\n",
      "ಅವಶ್ಯಕತೆ ಇಲ್ಲದ ಗ್ಯಾರಂಟಿ ಯೋಜನೆಯನ್ನ ತೆಗೆಯುವುದು ಒಳ್ಳೆಯದು - ಶಾಸಕ ದರ್ಶನ್‌ ಪುಟ್ಟಣಯ್ಯ\n",
      "Data extracted successfully 3350\n",
      "ಟ್ರಂಪ್‌ಗೆ ಕಮಲಾ ಹ್ಯಾರಿಸ್ ಮಾತಿನೇಟು! ಹುಸಿಯಾಗಲಿಲ್ಲ ಅಮೆರಿಕದ ಬೆಟ್ಟಿಂಗ್ ತಜ್ಞರ ನಿರೀಕ್ಷೆ\n",
      "Data extracted successfully 4762\n",
      "ವಾಲ್ಮೀಕಿ ಹಗರಣ, ಇಡಿ ಚಾರ್ಜ್‌ಶೀಟ್‌ನಲ್ಲಿ ಬಳ್ಳಾರಿ ಚುನಾವಣೆಗೆ 20.19 ಕೋಟಿ ಬಳಕೆ! ಇ. ತುಕರಾಂ ಸಂಕಷ್ಟದಲ್ಲಿ\n",
      "Data extracted successfully 4431\n",
      "‘ನಾನೂ ಸಿಎಂ ಆಕಾಂಕ್ಷಿ’ ಎಂದ ಈ 6 ಕಾಂಗ್ರೆಸ್‌ ನಾಯಕರ ವಿರುದ್ಧ ರಾಹುಲ್ ಗಾಂಧಿಗೆ ದೂರು! ಎಚ್ಚರಿಕೆ ನೀಡಲು ಮನವಿ\n",
      "Data extracted successfully 4144\n",
      "BGT 2024-25 ಸರಣಿಯಲ್ಲಿ ಆಸೀಸ್‌ ಪ್ರಾಬಲ್ಯ? ಭವಿಷ್ಯ ನುಡಿದ ಆಕಾಶ್ ಚೋಪ್ರಾ!\n",
      "Data extracted successfully 4916\n",
      "ಕಾಶ್ಮೀರ ಚುನಾವಣೆಗಾಗಿ ಎಂಜಿನಿಯರ್‌ ರಶೀದ್‌ಗೆ ಜಾಮೀನು, ಬಿಜೆಪಿ ವಿರುದ್ಧ ಒಮರ್ ಅಬ್ದುಲ್ಲಾ ಕಿಡಿ!\n",
      "Data extracted successfully 4383\n",
      "Explainer: ಅಯ್ಯೋ, ನಮೀಬಿಯಾ! ಹಸಿವು ನೀಗಿಸಿಕೊಳ್ಳಲು ಕಾಡುಪ್ರಾಣಿಗಳ ಬೇಟೆಗೆ ಅನುಮತಿ ನೀಡಿದ ಸರ್ಕಾರ\n",
      "Data extracted successfully 9377\n",
      "ರಾಮನಗರ ಜಿಲ್ಲೆಯಲ್ಲಿ ಸರ್ಕಾರಿ ಉದ್ಯೋಗ: 217 ಹುದ್ದೆಗೆ ಅರ್ಜಿ ಆಹ್ವಾನ\n",
      "Data extracted successfully 5259\n",
      "'ಭಾರತ ವಿರೋಧಿ' ಅಮೆರಿಕ ಸಂಸದೆ ಜೊತೆ ರಾಹುಲ್ ಗಾಂಧಿ ಗ್ರೂಪ್ ಫೋಟೋ! ಯಾರೀಕೆ ಇಲ್ಹಾನ್ ಒಮರ್?\n",
      "Data extracted successfully 4986\n",
      "'ಭಾರತ ವಿರೋಧಿ' ಅಮೆರಿಕ ಸಂಸದೆ ಜೊತೆ ರಾಹುಲ್ ಗಾಂಧಿ ಗ್ರೂಪ್ ಫೋಟೋ! ಯಾರೀಕೆ ಇಲ್ಹಾನ್ ಒಮರ್?\n",
      "Data extracted successfully 4986\n",
      "DRDO ದಲ್ಲಿ ಜೂನಿಯರ್ ರಿಸರ್ಚ್‌ ಫೆಲೋ ಹುದ್ದೆಗಳ ನೇಮಕ: ಅರ್ಜಿ ಆಹ್ವಾನ\n",
      "Data extracted successfully 4700\n",
      "DRDO ದಲ್ಲಿ ಜೂನಿಯರ್ ರಿಸರ್ಚ್‌ ಫೆಲೋ ಹುದ್ದೆಗಳ ನೇಮಕ: ಅರ್ಜಿ ಆಹ್ವಾನ\n",
      "Data extracted successfully 4700\n",
      "ತಮ್ಮದೇ ಪಕ್ಷದ ಸಂಸದ ಯದುವೀರ್ ಒಡೆಯರ್ ಗೆ ಪ್ರತಾಪ್ ಸಿಂಹ ಕೌಂಟರ್!\n",
      "Data extracted successfully 5014\n",
      "ತಮ್ಮದೇ ಪಕ್ಷದ ಸಂಸದ ಯದುವೀರ್ ಒಡೆಯರ್ ಗೆ ಪ್ರತಾಪ್ ಸಿಂಹ ಕೌಂಟರ್!\n",
      "Data extracted successfully 5014\n",
      "ಮೈಸೂರು ಜಿಲ್ಲೆಯಲ್ಲಿ ಮತ್ತೆ ಕಲುಷಿತ ನೀರು ಅವಗಢ - ಓರ್ವ ಸಾವು, 12 ಮಂದಿ ಅಸ್ವಸ್ಥ\n",
      "Data extracted successfully 4934\n",
      "ಮೈಸೂರು ಜಿಲ್ಲೆಯಲ್ಲಿ ಮತ್ತೆ ಕಲುಷಿತ ನೀರು ಅವಗಢ - ಓರ್ವ ಸಾವು, 12 ಮಂದಿ ಅಸ್ವಸ್ಥ\n",
      "Data extracted successfully 4934\n",
      "Some problem with headline link: https://vijaykarnataka.com/vk-gallery/cinema/photolist/27240251.cms\n",
      "Some problem with headline link: https://vijaykarnataka.com/vk-gallery/cinema/in-pics-vasishta-simha-and-haripriya-celebrate-gowri-ganesha-habba/photoshow/113252597.cms\n",
      "Anil Arora: ಟೆರೇಸ್‌ನಿಂದ ಹಾರಿ ಆತ್ಮಹತ್ಯೆ ಮಾಡಿಕೊಂಡ ನಟಿ ಮಲೈಕಾ ಅರೋರಾ ತಂದೆ; ಕಾರಣವೇನು?\n",
      "Data extracted successfully 4592\n",
      "ಸಿಖ್ಖರ ಕುರಿತು ಅಮೆರಿಕದಲ್ಲಿ ರಾಹುಲ್ ಗಾಂಧಿ ಹೇಳಿಕೆ: ಖಲಿಸ್ತಾನಿ ಉಗ್ರ ಪನ್ನು ಬೆಂಬಲ\n",
      "Data extracted successfully 5239\n",
      "ನೆಗಡಿ ಕೆಮ್ಮು ಮತ್ತು ಗಂಟಲು ನೋವಿಗೆ ಇಲ್ಲಿದೆ ಮನೆ ಮದ್ದಿನ ಸುಲಭ ಪರಿಹಾರಗಳು!!\n",
      "Data extracted successfully 15122\n",
      "Karnataka Dams Water Level Today: ರಾಜ್ಯದ ಎಲ್ಲಾ ಜಲಾಶಯಗಳು ಬಹುತೇಕ ಭರ್ತಿ- ಸೆ.11 ರಂದು ಪ್ರಮುಖ ಜಲಾಶಯಗಳ ನೀರಿನ ಮಟ್ಟ ಎಷ್ಟಿದೆ ನೋಡಿ\n",
      "Data extracted successfully 6062\n"
     ]
    }
   ],
   "source": [
    "\n",
    "\n",
    "# Set up your Selenium driver (e.g., ChromeDriver)\n",
    "driver = webdriver.Chrome()\n",
    "\n",
    "for url in df['url']:\n",
    "    try:\n",
    "        driver.get(url)\n",
    "        \n",
    "        driver.execute_script(\"\"\"\n",
    "            var iframes = document.getElementsByTagName('iframe');\n",
    "            for (var i = 0; i < iframes.length; i++) {\n",
    "                iframes[i].style.display = 'none';\n",
    "            }\n",
    "        \"\"\")\n",
    "\n",
    "        headline = driver.find_elements(By.CLASS_NAME, 'story-article')\n",
    "        if len(headline) < 1:\n",
    "            print(f\"Some problem with headline link: {url}\")\n",
    "            continue\n",
    "\n",
    "        header = headline[0].find_elements(By.TAG_NAME, 'h1')\n",
    "        if len(header) < 1:\n",
    "            print(f\"Some problem with header link: {url}\")\n",
    "            continue\n",
    "\n",
    "        header_text = header[0].get_attribute(\"innerText\").strip()\n",
    "        print(header_text)\n",
    "\n",
    "        art = driver.find_elements(By.CLASS_NAME, 'story-content')\n",
    "        if len(art) < 1:\n",
    "            print(f\"Some problem with content link: {url}\")\n",
    "            continue\n",
    "\n",
    "        # Optionally remove iframes again\n",
    "        driver.execute_script(\"\"\"\n",
    "            var iframes = document.getElementsByTagName('iframe');\n",
    "            for (var i = 0; i < iframes.length; i++) {\n",
    "                iframes[i].remove();\n",
    "            }\n",
    "        \"\"\")\n",
    "\n",
    "        data_str = \"\"\n",
    "        for content in art:\n",
    "            # Extract text from all child elements\n",
    "            text_elements = content.find_elements(By.XPATH, \".//*[not(self::script or self::style)]\")\n",
    "            for elem in text_elements:\n",
    "                text = elem.get_attribute(\"innerText\").strip()\n",
    "                if text:  # Check if there's any text\n",
    "                    data_str += text + \"\\n\"\n",
    "\n",
    "        data_str = data_str.strip()\n",
    "        print(\"Data extracted successfully\", len(data_str))\n",
    "        df2.loc[len(df2)] = [url, header_text, data_str]\n",
    "\n",
    "    except Exception as e:\n",
    "        print(f\"Error processing {url}: {str(e)}\")\n",
    "\n",
    "df2.to_csv(\"scraped_data.csv\", index=False)\n",
    "print(df)\n",
    "\n",
    "# Close the driver\n",
    "driver.close()\n"
   ]
  },
  {
   "cell_type": "code",
   "execution_count": 5,
   "id": "33fa5092",
   "metadata": {},
   "outputs": [
    {
     "data": {
      "text/plain": [
       "0       https://vijaykarnataka.com/news/mysuru/mysuru-...\n",
       "1       https://vijaykarnataka.com/news/mysuru/mysuru-...\n",
       "2       https://vijaykarnataka.com/news/world/congress...\n",
       "3       https://vijaykarnataka.com/news/world/congress...\n",
       "4       https://vijaykarnataka.com/news/karnataka/maha...\n",
       "                              ...                        \n",
       "2146    https://vijaykarnataka.com/astrology/planets-i...\n",
       "2147    https://vijaykarnataka.com/lifestyle/health/wh...\n",
       "2148    https://vijaykarnataka.com/lifestyle/health/wh...\n",
       "2149    https://vijaykarnataka.com/lifestyle/pregnancy...\n",
       "2150    https://vijaykarnataka.com/lifestyle/pregnancy...\n",
       "Name: url, Length: 2151, dtype: object"
      ]
     },
     "execution_count": 5,
     "metadata": {},
     "output_type": "execute_result"
    }
   ],
   "source": [
    "# for url in df['url']:\n",
    "#     driver.get(url)\n",
    "#     # headline\n",
    "#     headline = art[0].find_elements(By.CLASS_NAME , 'story-article')\n",
    "#     if len(headline) < 1:\n",
    "#         print(f\"Some problem with link: {url}\")\n",
    "\n",
    "#     header = headline[0].find_elements(By.TAG_NAME, 'h1')\n",
    "#     if len(header) < 1:\n",
    "#         print(f\"Some problem with link: {url}\")\n",
    "\n",
    "#     header_text = header[0].get_attribute(\"innerText\")\n",
    "#     print(header_text)\n",
    "\n",
    "#     # content\n",
    "#     art = driver.find_elements(By.CLASS_NAME, 'story-content')\n",
    "#     if len(art) < 1:\n",
    "#         print(f\"Some problem with link: {url}\")\n",
    "\n",
    "#     data1 = art[0].find_elements(By.TAG_NAME, 'div')\n",
    "#     # Filter out iframe elements\n",
    "#     filtered_data1 = [element for element in data1 if element.tag_name != 'iframe']\n",
    "\n",
    "#     # Check if there are less than 2 div elements after ignoring iframes\n",
    "#     if len(filtered_data1) < 1:\n",
    "#         print(f\"Some problem with link: {url}\")\n",
    "\n",
    "#     data_str = \"\"\n",
    "#     for i in range(len(filtered_data1)):\n",
    "#         p_tag = data1[i].find_elements(By.TAG_NAME, 'p')\n",
    "#         for j in range(len(p_tag)):\n",
    "#             data_str = data_str + p_tag[j].get_attribute(\"innerText\") + \"\\n\"\n",
    "\n",
    "#     data_str = data_str.strip()\n",
    "\n",
    "#     df = pd.DataFrame(columns=[\"url\", \"heading\", \"content\"])\n",
    "#     df.loc[len(df)] = [url, header_text, data_str]"
   ]
  },
  {
   "cell_type": "code",
   "execution_count": 15,
   "id": "0e78456b-f00f-4a5d-98b1-ca2eaf5a5045",
   "metadata": {},
   "outputs": [],
   "source": [
    "# link = \"https://vijaykarnataka.com/business/news/business-success-story-of-chinu-kala-build-rubans-accessories-fashion-jewellery-brand/articleshow/113166314.cms/\""
   ]
  },
  {
   "cell_type": "code",
   "execution_count": 16,
   "id": "298be59a-3107-46a3-9e03-cfcb44b54edf",
   "metadata": {},
   "outputs": [],
   "source": [
    "# driver.get(link)"
   ]
  },
  {
   "cell_type": "markdown",
   "id": "6b09e615-0499-415f-a87d-81d74a057b33",
   "metadata": {},
   "source": [
    "##### Getting specific article tag"
   ]
  },
  {
   "cell_type": "code",
   "execution_count": 18,
   "id": "a42f944a-9b77-49ed-a142-c4a1c66c4f66",
   "metadata": {},
   "outputs": [],
   "source": [
    "# art = driver.find_elements(By.CLASS_NAME, 'story-content')\n",
    "# if len(art) != 1:\n",
    "#     print(f\"Some problem with link: {link}\")"
   ]
  },
  {
   "cell_type": "markdown",
   "id": "c2e6f4d1-d60c-4327-bcc8-b97410228255",
   "metadata": {},
   "source": [
    "##### Extracting Headline in arcticle tag"
   ]
  },
  {
   "cell_type": "code",
   "execution_count": 7,
   "id": "90c66404-13ff-4539-be0a-b2abee2a2165",
   "metadata": {},
   "outputs": [],
   "source": [
    "# headline = art[0].find_elements(By.CSS_SELECTOR, '[data-component=\"headline-block\"]')\n",
    "# if len(headline) != 1:\n",
    "#     print(f\"Some problem with link: {link}\")"
   ]
  },
  {
   "cell_type": "code",
   "execution_count": 8,
   "id": "62338712-f678-4073-993e-69cb68ccde1d",
   "metadata": {},
   "outputs": [],
   "source": [
    "# header = headline[0].find_elements(By.TAG_NAME, 'h1')\n",
    "# if len(header) != 1:\n",
    "#     print(f\"Some problem with link: {link}\")\n",
    "\n",
    "# header_text = header[0].get_attribute(\"innerText\")"
   ]
  },
  {
   "cell_type": "markdown",
   "id": "5cd4ff8f-7ace-4bd4-b5ee-5cd5dc52c88d",
   "metadata": {},
   "source": [
    "##### Extracting context"
   ]
  },
  {
   "cell_type": "code",
   "execution_count": 24,
   "id": "3b27f4ef-2d26-4e6a-aea7-1e95438ddc1c",
   "metadata": {},
   "outputs": [],
   "source": [
    "# data1 = art[0].find_elements(By.TAG_NAME, 'div')\n",
    "\n",
    "\n",
    "# # Filter out iframe elements\n",
    "# filtered_data1 = [element for element in data1 if element.tag_name != 'iframe']\n",
    "\n",
    "# # Check if there are less than 2 div elements after ignoring iframes\n",
    "# if len(filtered_data1) < 2:\n",
    "#     print(f\"Some problem with link: {link}\")"
   ]
  },
  {
   "cell_type": "code",
   "execution_count": 25,
   "id": "988fa12a-482e-4f3f-8496-c3916d9f76d5",
   "metadata": {},
   "outputs": [],
   "source": [
    "# data_str = \"\"\n",
    "# for i in range(len(data1)):\n",
    "#     p_tag = data1[i].find_elements(By.TAG_NAME, 'p')\n",
    "#     for j in range(len(p_tag)):\n",
    "#         data_str = data_str + p_tag[j].get_attribute(\"innerText\") + \"\\n\""
   ]
  },
  {
   "cell_type": "code",
   "execution_count": 26,
   "id": "540c4ce6-9275-4d65-892d-0fa5f6234428",
   "metadata": {},
   "outputs": [],
   "source": [
    "# data_str = data_str.strip()"
   ]
  },
  {
   "cell_type": "markdown",
   "id": "1b9856ae-6a12-4f65-ae82-5cbd2acb25f0",
   "metadata": {},
   "source": [
    "##### Closing driver"
   ]
  },
  {
   "cell_type": "code",
   "execution_count": 27,
   "id": "2da1f9b2-afc8-4945-a63d-b8b98928c580",
   "metadata": {},
   "outputs": [],
   "source": [
    "driver.close()"
   ]
  },
  {
   "cell_type": "markdown",
   "id": "02735298-32df-4f5f-aa60-586c7bc19153",
   "metadata": {},
   "source": [
    "##### Saving data"
   ]
  },
  {
   "cell_type": "code",
   "execution_count": 28,
   "id": "b0bab84d-2fa0-40ff-9784-8db48c96be15",
   "metadata": {},
   "outputs": [],
   "source": [
    "# df = pd.DataFrame(columns=[\"url\", \"heading\", \"content\"])"
   ]
  },
  {
   "cell_type": "code",
   "execution_count": 29,
   "id": "7f19b52b-6090-41b3-9e89-9cb047c28ea4",
   "metadata": {},
   "outputs": [],
   "source": [
    "# df.loc[len(df)] = [link, header_text, data_str]"
   ]
  },
  {
   "cell_type": "code",
   "execution_count": 30,
   "id": "ebd2c0c0-e5db-4285-b0f2-695e3f0dfadc",
   "metadata": {},
   "outputs": [
    {
     "data": {
      "text/html": [
       "<div>\n",
       "<style scoped>\n",
       "    .dataframe tbody tr th:only-of-type {\n",
       "        vertical-align: middle;\n",
       "    }\n",
       "\n",
       "    .dataframe tbody tr th {\n",
       "        vertical-align: top;\n",
       "    }\n",
       "\n",
       "    .dataframe thead th {\n",
       "        text-align: right;\n",
       "    }\n",
       "</style>\n",
       "<table border=\"1\" class=\"dataframe\">\n",
       "  <thead>\n",
       "    <tr style=\"text-align: right;\">\n",
       "      <th></th>\n",
       "      <th>url</th>\n",
       "      <th>heading</th>\n",
       "      <th>content</th>\n",
       "    </tr>\n",
       "  </thead>\n",
       "  <tbody>\n",
       "    <tr>\n",
       "      <th>0</th>\n",
       "      <td>https://vijaykarnataka.com/business/news/busin...</td>\n",
       "      <td>The mind-bending mirrors behind advanced techn...</td>\n",
       "      <td>ಆಕೆ ತನ್ನ ಹೆತ್ತವರ ಮನೆಯನ್ನು ತೊರೆಯಲೇ ಬೇಕಿತ್ತು. ಸಾ...</td>\n",
       "    </tr>\n",
       "  </tbody>\n",
       "</table>\n",
       "</div>"
      ],
      "text/plain": [
       "                                                 url  \\\n",
       "0  https://vijaykarnataka.com/business/news/busin...   \n",
       "\n",
       "                                             heading  \\\n",
       "0  The mind-bending mirrors behind advanced techn...   \n",
       "\n",
       "                                             content  \n",
       "0  ಆಕೆ ತನ್ನ ಹೆತ್ತವರ ಮನೆಯನ್ನು ತೊರೆಯಲೇ ಬೇಕಿತ್ತು. ಸಾ...  "
      ]
     },
     "execution_count": 30,
     "metadata": {},
     "output_type": "execute_result"
    }
   ],
   "source": [
    "# df"
   ]
  },
  {
   "cell_type": "code",
   "execution_count": 31,
   "id": "9114a014-b319-4cb7-ab78-7efc2a48891f",
   "metadata": {},
   "outputs": [],
   "source": [
    "df.to_csv(\"dummy_data.csv\", index=False)"
   ]
  },
  {
   "cell_type": "code",
   "execution_count": null,
   "id": "7b14c5bd-b13d-4907-b0a0-00fb24752df5",
   "metadata": {},
   "outputs": [],
   "source": []
  },
  {
   "cell_type": "code",
   "execution_count": null,
   "id": "e18c9b92-618b-41a0-a151-5d23565a565d",
   "metadata": {},
   "outputs": [],
   "source": []
  }
 ],
 "metadata": {
  "kernelspec": {
   "display_name": "Python 3 (ipykernel)",
   "language": "python",
   "name": "python3"
  },
  "language_info": {
   "codemirror_mode": {
    "name": "ipython",
    "version": 3
   },
   "file_extension": ".py",
   "mimetype": "text/x-python",
   "name": "python",
   "nbconvert_exporter": "python",
   "pygments_lexer": "ipython3",
   "version": "3.12.5"
  }
 },
 "nbformat": 4,
 "nbformat_minor": 5
}
