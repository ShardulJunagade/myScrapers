{
 "cells": [
  {
   "cell_type": "code",
   "execution_count": 4,
   "metadata": {},
   "outputs": [],
   "source": [
    "import requests\n",
    "from bs4 import BeautifulSoup\n",
    "import time\n",
    "import random\n",
    "\n",
    "# Karnataka news base URL\n",
    "base_url = 'https://www.vijayavani.net/category/%e0%b2%b8%e0%b2%ae%e0%b2%b8%e0%b3%8d%e0%b2%a4-%e0%b2%95%e0%b2%b0%e0%b3%8d%e0%b2%a8%e0%b2%be%e0%b2%9f%e0%b2%95/'\n",
    "start_page = 1\n",
    "end_page = 4565\n",
    "\n",
    "headers = {\n",
    "    'User-Agent': 'Mozilla/5.0 (Windows NT 10.0; Win64; x64) AppleWebKit/537.36 (KHTML, like Gecko) Chrome/91.0.4472.124 Safari/537.36'\n",
    "}\n",
    "\n",
    "user_agents = [\n",
    "    'Mozilla/5.0 (Windows NT 10.0; Win64; x64) AppleWebKit/537.36 (KHTML, like Gecko) Chrome/91.0.4472.124 Safari/537.36',\n",
    "    'Mozilla/5.0 (X11; Ubuntu; Linux x86_64; rv:89.0) Gecko/20100101 Firefox/89.0',\n",
    "    'Mozilla/5.0 (Windows NT 10.0; Win64; x64) AppleWebKit/537.36 (KHTML, like Gecko) Chrome/90.0.4430.93 Safari/537.36',\n",
    "    'Mozilla/5.0 (Macintosh; Intel Mac OS X 10.15; rv:89.0) Gecko/20100101 Firefox/89.0',\n",
    "    # Add more user agents as needed\n",
    "]\n"
   ]
  },
  {
   "cell_type": "code",
   "execution_count": 5,
   "metadata": {},
   "outputs": [],
   "source": [
    "def get_article_urls(page_url, retries = 3):\n",
    "    attempt = 0\n",
    "    while attempt < retries:\n",
    "        try:\n",
    "            headers = {\n",
    "                'User-Agent': random.choice(user_agents)\n",
    "            }\n",
    "            response = requests.get(page_url, headers=headers)\n",
    "            response.raise_for_status()\n",
    "            \n",
    "            soup = BeautifulSoup(response.text, 'html.parser')\n",
    "            div1 = soup.find('div', class_='blog-content')\n",
    "            if not div1:\n",
    "                print(f\"Unable to find blog grid on page: {page_url}\")\n",
    "                return []\n",
    "\n",
    "            titles = div1.find_all('h2', class_='entry-title')\n",
    "            if not titles:\n",
    "                print(f\"Unable to find article titles on page: {page_url}\")\n",
    "                return []\n",
    "\n",
    "            article_urls = [title.find('a')['href'] for title in titles if title.find('a')]\n",
    "            return article_urls\n",
    "        \n",
    "        except requests.exceptions.RequestException as e:\n",
    "            print(f\"Error fetching {page_url} (Attempt {attempt+1}): {e}\")\n",
    "            attempt += 1\n",
    "            if attempt < retries:\n",
    "                time.sleep(random.randint(3, 7))\n",
    "            else:\n",
    "                print(f\"Failed after {retries} attempts: {page_url}\")\n",
    "                return []"
   ]
  },
  {
   "cell_type": "code",
   "execution_count": 6,
   "metadata": {},
   "outputs": [
    {
     "name": "stdout",
     "output_type": "stream",
     "text": [
      "Processing page: 1\n",
      "Error fetching https://www.vijayavani.net/category/%e0%b2%b8%e0%b2%ae%e0%b2%b8%e0%b3%8d%e0%b2%a4-%e0%b2%95%e0%b2%b0%e0%b3%8d%e0%b2%a8%e0%b2%be%e0%b2%9f%e0%b2%95/page/1 (Attempt 1): 403 Client Error: Forbidden for url: https://www.vijayavani.net/category/%E0%B2%B8%E0%B2%AE%E0%B2%B8%E0%B3%8D%E0%B2%A4-%E0%B2%95%E0%B2%B0%E0%B3%8D%E0%B2%A8%E0%B2%BE%E0%B2%9F%E0%B2%95/page/1\n",
      "Error fetching https://www.vijayavani.net/category/%e0%b2%b8%e0%b2%ae%e0%b2%b8%e0%b3%8d%e0%b2%a4-%e0%b2%95%e0%b2%b0%e0%b3%8d%e0%b2%a8%e0%b2%be%e0%b2%9f%e0%b2%95/page/1 (Attempt 2): 403 Client Error: Forbidden for url: https://www.vijayavani.net/category/%E0%B2%B8%E0%B2%AE%E0%B2%B8%E0%B3%8D%E0%B2%A4-%E0%B2%95%E0%B2%B0%E0%B3%8D%E0%B2%A8%E0%B2%BE%E0%B2%9F%E0%B2%95/page/1\n",
      "Error fetching https://www.vijayavani.net/category/%e0%b2%b8%e0%b2%ae%e0%b2%b8%e0%b3%8d%e0%b2%a4-%e0%b2%95%e0%b2%b0%e0%b3%8d%e0%b2%a8%e0%b2%be%e0%b2%9f%e0%b2%95/page/1 (Attempt 3): 403 Client Error: Forbidden for url: https://www.vijayavani.net/category/%E0%B2%B8%E0%B2%AE%E0%B2%B8%E0%B3%8D%E0%B2%A4-%E0%B2%95%E0%B2%B0%E0%B3%8D%E0%B2%A8%E0%B2%BE%E0%B2%9F%E0%B2%95/page/1\n",
      "Failed after 3 attempts: https://www.vijayavani.net/category/%e0%b2%b8%e0%b2%ae%e0%b2%b8%e0%b3%8d%e0%b2%a4-%e0%b2%95%e0%b2%b0%e0%b3%8d%e0%b2%a8%e0%b2%be%e0%b2%9f%e0%b2%95/page/1\n",
      "Processing page: 2\n",
      "Error fetching https://www.vijayavani.net/category/%e0%b2%b8%e0%b2%ae%e0%b2%b8%e0%b3%8d%e0%b2%a4-%e0%b2%95%e0%b2%b0%e0%b3%8d%e0%b2%a8%e0%b2%be%e0%b2%9f%e0%b2%95/page/2 (Attempt 1): 403 Client Error: Forbidden for url: https://www.vijayavani.net/category/%E0%B2%B8%E0%B2%AE%E0%B2%B8%E0%B3%8D%E0%B2%A4-%E0%B2%95%E0%B2%B0%E0%B3%8D%E0%B2%A8%E0%B2%BE%E0%B2%9F%E0%B2%95/page/2\n"
     ]
    },
    {
     "ename": "KeyboardInterrupt",
     "evalue": "",
     "output_type": "error",
     "traceback": [
      "\u001b[1;31m---------------------------------------------------------------------------\u001b[0m",
      "\u001b[1;31mHTTPError\u001b[0m                                 Traceback (most recent call last)",
      "Cell \u001b[1;32mIn[5], line 9\u001b[0m, in \u001b[0;36mget_article_urls\u001b[1;34m(page_url, retries)\u001b[0m\n\u001b[0;32m      8\u001b[0m response \u001b[38;5;241m=\u001b[39m requests\u001b[38;5;241m.\u001b[39mget(page_url, headers\u001b[38;5;241m=\u001b[39mheaders)\n\u001b[1;32m----> 9\u001b[0m \u001b[43mresponse\u001b[49m\u001b[38;5;241;43m.\u001b[39;49m\u001b[43mraise_for_status\u001b[49m\u001b[43m(\u001b[49m\u001b[43m)\u001b[49m\n\u001b[0;32m     11\u001b[0m soup \u001b[38;5;241m=\u001b[39m BeautifulSoup(response\u001b[38;5;241m.\u001b[39mtext, \u001b[38;5;124m'\u001b[39m\u001b[38;5;124mhtml.parser\u001b[39m\u001b[38;5;124m'\u001b[39m)\n",
      "File \u001b[1;32m~\\AppData\\Roaming\\Python\\Python312\\site-packages\\requests\\models.py:1021\u001b[0m, in \u001b[0;36mResponse.raise_for_status\u001b[1;34m(self)\u001b[0m\n\u001b[0;32m   1020\u001b[0m \u001b[38;5;28;01mif\u001b[39;00m http_error_msg:\n\u001b[1;32m-> 1021\u001b[0m     \u001b[38;5;28;01mraise\u001b[39;00m HTTPError(http_error_msg, response\u001b[38;5;241m=\u001b[39m\u001b[38;5;28mself\u001b[39m)\n",
      "\u001b[1;31mHTTPError\u001b[0m: 403 Client Error: Forbidden for url: https://www.vijayavani.net/category/%E0%B2%B8%E0%B2%AE%E0%B2%B8%E0%B3%8D%E0%B2%A4-%E0%B2%95%E0%B2%B0%E0%B3%8D%E0%B2%A8%E0%B2%BE%E0%B2%9F%E0%B2%95/page/2",
      "\nDuring handling of the above exception, another exception occurred:\n",
      "\u001b[1;31mKeyboardInterrupt\u001b[0m                         Traceback (most recent call last)",
      "Cell \u001b[1;32mIn[6], line 5\u001b[0m\n\u001b[0;32m      3\u001b[0m \u001b[38;5;28mprint\u001b[39m(\u001b[38;5;124mf\u001b[39m\u001b[38;5;124m\"\u001b[39m\u001b[38;5;124mProcessing page: \u001b[39m\u001b[38;5;132;01m{\u001b[39;00mi\u001b[38;5;132;01m}\u001b[39;00m\u001b[38;5;124m\"\u001b[39m)\n\u001b[0;32m      4\u001b[0m page_url \u001b[38;5;241m=\u001b[39m base_url \u001b[38;5;241m+\u001b[39m \u001b[38;5;124m'\u001b[39m\u001b[38;5;124mpage/\u001b[39m\u001b[38;5;124m'\u001b[39m \u001b[38;5;241m+\u001b[39m \u001b[38;5;28mstr\u001b[39m(i)\n\u001b[1;32m----> 5\u001b[0m article_urls \u001b[38;5;241m=\u001b[39m \u001b[43mget_article_urls\u001b[49m\u001b[43m(\u001b[49m\u001b[43mpage_url\u001b[49m\u001b[43m)\u001b[49m\n\u001b[0;32m      7\u001b[0m \u001b[38;5;28;01mif\u001b[39;00m article_urls:\n\u001b[0;32m      8\u001b[0m     links\u001b[38;5;241m.\u001b[39mextend(article_urls)\n",
      "Cell \u001b[1;32mIn[5], line 29\u001b[0m, in \u001b[0;36mget_article_urls\u001b[1;34m(page_url, retries)\u001b[0m\n\u001b[0;32m     27\u001b[0m attempt \u001b[38;5;241m+\u001b[39m\u001b[38;5;241m=\u001b[39m \u001b[38;5;241m1\u001b[39m\n\u001b[0;32m     28\u001b[0m \u001b[38;5;28;01mif\u001b[39;00m attempt \u001b[38;5;241m<\u001b[39m retries:\n\u001b[1;32m---> 29\u001b[0m     \u001b[43mtime\u001b[49m\u001b[38;5;241;43m.\u001b[39;49m\u001b[43msleep\u001b[49m\u001b[43m(\u001b[49m\u001b[43mrandom\u001b[49m\u001b[38;5;241;43m.\u001b[39;49m\u001b[43mrandint\u001b[49m\u001b[43m(\u001b[49m\u001b[38;5;241;43m3\u001b[39;49m\u001b[43m,\u001b[49m\u001b[43m \u001b[49m\u001b[38;5;241;43m7\u001b[39;49m\u001b[43m)\u001b[49m\u001b[43m)\u001b[49m\n\u001b[0;32m     30\u001b[0m \u001b[38;5;28;01melse\u001b[39;00m:\n\u001b[0;32m     31\u001b[0m     \u001b[38;5;28mprint\u001b[39m(\u001b[38;5;124mf\u001b[39m\u001b[38;5;124m\"\u001b[39m\u001b[38;5;124mFailed after \u001b[39m\u001b[38;5;132;01m{\u001b[39;00mretries\u001b[38;5;132;01m}\u001b[39;00m\u001b[38;5;124m attempts: \u001b[39m\u001b[38;5;132;01m{\u001b[39;00mpage_url\u001b[38;5;132;01m}\u001b[39;00m\u001b[38;5;124m\"\u001b[39m)\n",
      "\u001b[1;31mKeyboardInterrupt\u001b[0m: "
     ]
    }
   ],
   "source": [
    "links = []\n",
    "for i in range(start_page, 3):\n",
    "    print(f\"Processing page: {i}\")\n",
    "    page_url = base_url + 'page/' + str(i)\n",
    "    article_urls = get_article_urls(page_url)\n",
    "    \n",
    "    if article_urls:\n",
    "        links.extend(article_urls)\n",
    "    \n",
    "    time.sleep(random.randint(2, 5))\n",
    "\n",
    "print(\"Total links collected:\", len(links))"
   ]
  },
  {
   "cell_type": "code",
   "execution_count": null,
   "metadata": {},
   "outputs": [],
   "source": []
  }
 ],
 "metadata": {
  "kernelspec": {
   "display_name": "Python 3",
   "language": "python",
   "name": "python3"
  },
  "language_info": {
   "codemirror_mode": {
    "name": "ipython",
    "version": 3
   },
   "file_extension": ".py",
   "mimetype": "text/x-python",
   "name": "python",
   "nbconvert_exporter": "python",
   "pygments_lexer": "ipython3",
   "version": "3.12.4"
  }
 },
 "nbformat": 4,
 "nbformat_minor": 2
}
